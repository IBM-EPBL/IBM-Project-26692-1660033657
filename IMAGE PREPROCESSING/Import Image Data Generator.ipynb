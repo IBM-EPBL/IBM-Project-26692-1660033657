{
  "metadata": {
    "language_info": {
      "codemirror_mode": {
        "name": "python",
        "version": 3
      },
      "file_extension": ".py",
      "mimetype": "text/x-python",
      "name": "python",
      "nbconvert_exporter": "python",
      "pygments_lexer": "ipython3",
      "version": "3.8"
    },
    "kernelspec": {
      "name": "python",
      "display_name": "Python (Pyodide)",
      "language": "python"
    }
  },
  "nbformat_minor": 4,
  "nbformat": 4,
  "cells": [
    {
      "cell_type": "code",
      "source": "{\n  \"nbformat\": 4,\n  \"nbformat_minor\": 0,\n  \"metadata\": {\n    \"colab\": {\n      \"provenance\": []\n    },\n    \"kernelspec\": {\n      \"name\": \"python3\",\n      \"display_name\": \"Python 3\"\n    },\n    \"language_info\": {\n      \"name\": \"python\"\n    }\n  },\n  \"cells\": [\n    {\n      \"cell_type\": \"markdown\",\n      \"source\": [\n        \"# **Image Preprocessing**\"\n      ],\n      \"metadata\": {\n        \"id\": \"-H8IaaRlcUJc\"\n      }\n    },\n    {\n      \"cell_type\": \"markdown\",\n      \"source\": [\n        \"### **Import ImageDataGenerator Library And Configure It**\"\n      ],\n      \"metadata\": {\n        \"id\": \"_KRP4xr9c7ES\"\n      }\n    },\n    {\n      \"cell_type\": \"code\",\n      \"execution_count\": 10,\n      \"metadata\": {\n        \"id\": \"a97mB3o9cLZc\"\n      },\n      \"outputs\": [],\n      \"source\": [\n        \"from tensorflow.keras.preprocessing.image import ImageDataGenerator\\n\"\n      ]\n    },\n    {\n      \"cell_type\": \"code\",\n      \"source\": [\n        \"# Training Datagen\\n\",\n        \"train_datagen = ImageDataGenerator(rescale=1/255,zoom_range=0.2,horizontal_flip=True,vertical_flip=False)\\n\",\n        \"# Testing Datagen\\n\",\n        \"test_datagen = ImageDataGenerator(rescale=1/255)\"\n      ],\n      \"metadata\": {\n        \"id\": \"xX01tIbDfPwJ\"\n      },\n      \"execution_count\": 11,\n      \"outputs\": []\n    },\n    {\n      \"cell_type\": \"code\",\n      \"source\": [\n        \"import tensorflow as tf\\n\",\n        \"import os\\n\",\n        \"from tensorflow.keras.models import Sequential\\n\",\n        \"from tensorflow.keras.layers import Dense, Conv2D, Flatten, Dropout, MaxPooling2D\\n\",\n        \"from tensorflow.keras.preprocessing.image import ImageDataGenerator\\n\",\n        \"import numpy as np\\n\",\n        \"import matplotlib.pyplot as plt\\n\",\n        \"import IPython.display as display\\n\",\n        \"from PIL import Image\\n\",\n        \"import pathlib\"\n      ],\n      \"metadata\": {\n        \"id\": \"XIJFAo5_gkWH\"\n      },\n      \"execution_count\": 12,\n      \"outputs\": []\n    }\n  ]\n}",
      "metadata": {},
      "execution_count": null,
      "outputs": []
    }
  ]
}